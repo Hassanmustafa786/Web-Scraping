{
 "cells": [
  {
   "cell_type": "code",
   "execution_count": 66,
   "id": "6da2e131",
   "metadata": {},
   "outputs": [
    {
     "name": "stdout",
     "output_type": "stream",
     "text": [
      "Requirement already satisfied: autoscraper in c:\\users\\perfect\\anaconda3\\lib\\site-packages (1.1.12)\n",
      "Requirement already satisfied: lxml in c:\\users\\perfect\\anaconda3\\lib\\site-packages (from autoscraper) (4.6.3)\n",
      "Requirement already satisfied: bs4 in c:\\users\\perfect\\anaconda3\\lib\\site-packages (from autoscraper) (0.0.1)\n",
      "Requirement already satisfied: requests in c:\\users\\perfect\\anaconda3\\lib\\site-packages (from autoscraper) (2.25.1)\n",
      "Requirement already satisfied: beautifulsoup4 in c:\\users\\perfect\\anaconda3\\lib\\site-packages (from bs4->autoscraper) (4.9.3)\n",
      "Requirement already satisfied: soupsieve>1.2 in c:\\users\\perfect\\anaconda3\\lib\\site-packages (from beautifulsoup4->bs4->autoscraper) (2.2.1)\n",
      "Requirement already satisfied: urllib3<1.27,>=1.21.1 in c:\\users\\perfect\\anaconda3\\lib\\site-packages (from requests->autoscraper) (1.26.4)\n",
      "Requirement already satisfied: chardet<5,>=3.0.2 in c:\\users\\perfect\\anaconda3\\lib\\site-packages (from requests->autoscraper) (4.0.0)\n",
      "Requirement already satisfied: certifi>=2017.4.17 in c:\\users\\perfect\\anaconda3\\lib\\site-packages (from requests->autoscraper) (2020.12.5)\n",
      "Requirement already satisfied: idna<3,>=2.5 in c:\\users\\perfect\\anaconda3\\lib\\site-packages (from requests->autoscraper) (2.10)\n"
     ]
    }
   ],
   "source": [
    "!pip install autoscraper"
   ]
  },
  {
   "cell_type": "code",
   "execution_count": 67,
   "id": "5cd6be70",
   "metadata": {},
   "outputs": [],
   "source": [
    "from autoscraper import AutoScraper"
   ]
  },
  {
   "cell_type": "code",
   "execution_count": 68,
   "id": "fe529a6d",
   "metadata": {},
   "outputs": [],
   "source": [
    "flipkart_url=\"https://www.flipkart.com/search?q=handsfree&otracker=search&otracker1=search&marketplace=FLIPKART&as-show=on&as=off\"\n",
    "wanted_list=[\"₹369\",\"Aroma NB120 Tehalka - 28 Hours Playtime Bluetooth Neckb...\",\"3.9\"]"
   ]
  },
  {
   "cell_type": "code",
   "execution_count": 69,
   "id": "954ff1d1",
   "metadata": {},
   "outputs": [
    {
     "name": "stdout",
     "output_type": "stream",
     "text": [
      "['₹369', '₹1,499', '₹130', '₹479', '₹260', '₹1,199', '₹625', '₹459', '₹379', '₹599', '₹1,399', '₹533', '₹399', '₹649', '₹229', '₹584', '₹1,299', '₹549', '₹161', '₹245', '₹799', '₹349', '₹638', '₹131', 'Aroma NB120 Tehalka - 28 Hours Playtime Bluetooth Neckb...', 'boAt Rockerz 255F Pro+ Bluetooth Headset', 'CatBull In-ear Bluetooth Headset', 'Aroma NB119B Badshah - 40 Hours Playtime Bluetooth Neck...', 'Oxhox HBS-730 Sports Stereo Headphone Bluetooth Headset', 'boAt Rockerz 235v2 with ASAP charging Version 5.0 Bluet...', 'FD1 S_S L21 Wireless bluetooth headphone Waterproof Ste...', 'Oxhox Magnetic Bluetooth Headset with Mic Bluetooth Hea...', 'Aroma NB119C Carter - 36 Hours Playtime Bluetooth Neckb...', 'boAt Rockerz 333 Upto 30 Hours Battery Bluetooth Headse...', 'Casa Tech I7s Bluetooth Earphone Supported with All Sma...', 'Aroma NB119D Dream - 48 Hours Playtime Bluetooth Neckba...', 'boAt Rockerz 255F Pro with ASAP Charge and upto 10 Hour...', 'Aroma NB119 Advance - 40 Hours Playtime Bluetooth Neckb...', 'U&I Titanic Series - Low Price Bluetooth Neckband Bluet...', 'Aroma NB119 Titanium - 48 Hours Playtime Bluetooth Neck...', 'boAt Bassheads 100 Wired Headset', 'FIER FGN-K1B,K1W Pack 2bluetooth,headphone Bluetooth He...', 'boAt Rockerz 235v2 with ASAP Charge and upto 8 Hours Pl...', 'TECHFIRE Fire 500v2 Neckband hi-bass Wireless Bluetooth...', 'JBL C150SI Wired Headset', 'boAt Rockerz 255F Bluetooth Headset', 'boAt BassHeads 220 Wired Headset', 'AXYRO SN-K1 356 Bluetooth Headset', 'NIRUM HBS-730 Wireless/bluetooth For ALL SMART MOBILES ...', 'boAt BassHeads 900 Wired Headset', 'boAt Bassheads 103 Black Wired Headset', 'realme Buds Classic RMA2001 Wired Earphones with HD Mic...', 'realme Buds 2 Wired Headset', 'Boult Audio Bassbuds X1 Wired Headset', 'PTron InTunes Elite Bluetooth Headset', 'realme Buds Wireless 2 Neo with Type-C Fast Charge & Ba...', 'TIGENECY i7S Single 2 PIC Ear Sound with Mic Bluetooth ...', 'Allmusic powerful driven bass with dynamic beats powere...', 'Toughway Bluetooth Headset (Black, True Wireless) Bluet...', '3.9', '4.2', '3.4', '4', '3.5', '3.7', '3.6', '4.1', '4.3', '3.8', '4.5']\n"
     ]
    }
   ],
   "source": [
    "scraper = AutoScraper()\n",
    "result = scraper.build(flipkart_url , wanted_list)\n",
    "print(result)"
   ]
  },
  {
   "cell_type": "code",
   "execution_count": 70,
   "id": "37c3554b",
   "metadata": {},
   "outputs": [
    {
     "data": {
      "text/plain": [
       "{'rule_2ry7': ['₹369',\n",
       "  '₹1,499',\n",
       "  '₹130',\n",
       "  '₹479',\n",
       "  '₹260',\n",
       "  '₹1,199',\n",
       "  '₹625',\n",
       "  '₹130',\n",
       "  '₹459',\n",
       "  '₹1,199',\n",
       "  '₹1,499',\n",
       "  '₹379',\n",
       "  '₹599',\n",
       "  '₹1,399',\n",
       "  '₹533',\n",
       "  '₹399',\n",
       "  '₹649',\n",
       "  '₹399',\n",
       "  '₹229',\n",
       "  '₹1,499',\n",
       "  '₹1,199',\n",
       "  '₹599',\n",
       "  '₹584',\n",
       "  '₹1,199',\n",
       "  '₹1,299',\n",
       "  '₹549',\n",
       "  '₹161',\n",
       "  '₹245',\n",
       "  '₹799',\n",
       "  '₹349',\n",
       "  '₹399',\n",
       "  '₹599',\n",
       "  '₹349',\n",
       "  '₹638',\n",
       "  '₹1,499',\n",
       "  '₹649',\n",
       "  '₹245',\n",
       "  '₹1,499',\n",
       "  '₹260',\n",
       "  '₹131'],\n",
       " 'rule_utzo': ['Aroma NB120 Tehalka - 28 Hours Playtime Bluetooth Neckb...',\n",
       "  'boAt Rockerz 255F Pro+ Bluetooth Headset',\n",
       "  'CatBull In-ear Bluetooth Headset',\n",
       "  'Aroma NB119B Badshah - 40 Hours Playtime Bluetooth Neck...',\n",
       "  'Oxhox HBS-730 Sports Stereo Headphone Bluetooth Headset',\n",
       "  'boAt Rockerz 235v2 with ASAP charging Version 5.0 Bluet...',\n",
       "  'FD1 S_S L21 Wireless bluetooth headphone Waterproof Ste...',\n",
       "  'Oxhox Magnetic Bluetooth Headset with Mic Bluetooth Hea...',\n",
       "  'Aroma NB119C Carter - 36 Hours Playtime Bluetooth Neckb...',\n",
       "  'boAt Rockerz 235v2 with ASAP charging Version 5.0 Bluet...',\n",
       "  'boAt Rockerz 333 Upto 30 Hours Battery Bluetooth Headse...',\n",
       "  'Casa Tech I7s Bluetooth Earphone Supported with All Sma...',\n",
       "  'Aroma NB119D Dream - 48 Hours Playtime Bluetooth Neckba...',\n",
       "  'boAt Rockerz 255F Pro with ASAP Charge and upto 10 Hour...',\n",
       "  'Aroma NB119 Advance - 40 Hours Playtime Bluetooth Neckb...',\n",
       "  'U&I Titanic Series - Low Price Bluetooth Neckband Bluet...',\n",
       "  'Aroma NB119 Titanium - 48 Hours Playtime Bluetooth Neck...',\n",
       "  'boAt Bassheads 100 Wired Headset',\n",
       "  'FIER FGN-K1B,K1W Pack 2bluetooth,headphone Bluetooth He...',\n",
       "  'boAt Rockerz 255F Pro+ Bluetooth Headset',\n",
       "  'boAt Rockerz 235v2 with ASAP Charge and upto 8 Hours Pl...',\n",
       "  'TECHFIRE Fire 500v2 Neckband hi-bass Wireless Bluetooth...',\n",
       "  'JBL C150SI Wired Headset',\n",
       "  'boAt Rockerz 235v2 with ASAP charging Version 5.0 Bluet...',\n",
       "  'boAt Rockerz 255F Bluetooth Headset',\n",
       "  'boAt BassHeads 220 Wired Headset',\n",
       "  'AXYRO SN-K1 356 Bluetooth Headset',\n",
       "  'NIRUM HBS-730 Wireless/bluetooth For ALL SMART MOBILES ...',\n",
       "  'boAt BassHeads 900 Wired Headset',\n",
       "  'boAt Bassheads 103 Black Wired Headset',\n",
       "  'realme Buds Classic RMA2001 Wired Earphones with HD Mic...',\n",
       "  'realme Buds 2 Wired Headset',\n",
       "  'Boult Audio Bassbuds X1 Wired Headset',\n",
       "  'PTron InTunes Elite Bluetooth Headset',\n",
       "  'realme Buds Wireless 2 Neo with Type-C Fast Charge & Ba...',\n",
       "  'Aroma NB119 Titanium - 48 Hours Playtime Bluetooth Neck...',\n",
       "  'TIGENECY i7S Single 2 PIC Ear Sound with Mic Bluetooth ...',\n",
       "  'realme Buds Wireless 2 Neo with Type-C Fast Charge & Ba...',\n",
       "  'Allmusic powerful driven bass with dynamic beats powere...',\n",
       "  'Toughway Bluetooth Headset (Black, True Wireless) Bluet...'],\n",
       " 'rule_pzk0': ['3.9',\n",
       "  '4.2',\n",
       "  '3.4',\n",
       "  '4',\n",
       "  '3.5',\n",
       "  '4.2',\n",
       "  '3.7',\n",
       "  '3.4',\n",
       "  '4',\n",
       "  '4.2',\n",
       "  '4',\n",
       "  '3.6',\n",
       "  '4.1',\n",
       "  '4.1',\n",
       "  '4',\n",
       "  '4',\n",
       "  '4.1',\n",
       "  '4.3',\n",
       "  '3.7',\n",
       "  '4.2',\n",
       "  '4.2',\n",
       "  '3.8',\n",
       "  '4.2',\n",
       "  '4.2',\n",
       "  '4.2',\n",
       "  '4.2',\n",
       "  '3.7',\n",
       "  '3.7',\n",
       "  '4.3',\n",
       "  '4.3',\n",
       "  '4.2',\n",
       "  '4.3',\n",
       "  '4.1',\n",
       "  '4.5',\n",
       "  '4.2',\n",
       "  '4.1',\n",
       "  '3.6',\n",
       "  '4.2',\n",
       "  '3.4',\n",
       "  '3.4']}"
      ]
     },
     "execution_count": 70,
     "metadata": {},
     "output_type": "execute_result"
    }
   ],
   "source": [
    "scraper.get_result_similar(flipkart_url, grouped =True)"
   ]
  },
  {
   "cell_type": "code",
   "execution_count": 81,
   "id": "dd212949",
   "metadata": {},
   "outputs": [],
   "source": [
    "scraper.set_rule_aliases({'rule_2ry7':'Title','rule_utzo':'Price'})\n",
    "scraper.keep_rules(['rule_2ry7','rule_utzo'])\n",
    "scraper.save('amazon-search')"
   ]
  },
  {
   "cell_type": "code",
   "execution_count": 87,
   "id": "472e3131",
   "metadata": {},
   "outputs": [],
   "source": [
    "results = scraper.get_result_similar('https://www.flipkart.com/search?q=shoes&otracker=search&otracker1=search&marketplace=FLIPKART&as-show=on&as=off', group_by_alias = True)"
   ]
  },
  {
   "cell_type": "code",
   "execution_count": 88,
   "id": "61df2dab",
   "metadata": {},
   "outputs": [
    {
     "data": {
      "text/plain": [
       "[]"
      ]
     },
     "execution_count": 88,
     "metadata": {},
     "output_type": "execute_result"
    }
   ],
   "source": [
    "results['Title']"
   ]
  },
  {
   "cell_type": "code",
   "execution_count": 80,
   "id": "4fb6da3c",
   "metadata": {},
   "outputs": [
    {
     "data": {
      "text/plain": [
       "[]"
      ]
     },
     "execution_count": 80,
     "metadata": {},
     "output_type": "execute_result"
    }
   ],
   "source": [
    "results['Price']"
   ]
  },
  {
   "cell_type": "code",
   "execution_count": null,
   "id": "a4691ccd",
   "metadata": {},
   "outputs": [],
   "source": []
  }
 ],
 "metadata": {
  "kernelspec": {
   "display_name": "Python 3",
   "language": "python",
   "name": "python3"
  },
  "language_info": {
   "codemirror_mode": {
    "name": "ipython",
    "version": 3
   },
   "file_extension": ".py",
   "mimetype": "text/x-python",
   "name": "python",
   "nbconvert_exporter": "python",
   "pygments_lexer": "ipython3",
   "version": "3.8.8"
  }
 },
 "nbformat": 4,
 "nbformat_minor": 5
}
