{
 "cells": [
  {
   "cell_type": "code",
   "execution_count": 21,
   "id": "fb4497f0",
   "metadata": {},
   "outputs": [
    {
     "name": "stdout",
     "output_type": "stream",
     "text": [
      "Requirement already satisfied: autoscraper in c:\\users\\perfect\\anaconda3\\lib\\site-packages (1.1.12)\n",
      "Requirement already satisfied: bs4 in c:\\users\\perfect\\anaconda3\\lib\\site-packages (from autoscraper) (0.0.1)\n",
      "Requirement already satisfied: requests in c:\\users\\perfect\\anaconda3\\lib\\site-packages (from autoscraper) (2.25.1)\n",
      "Requirement already satisfied: lxml in c:\\users\\perfect\\anaconda3\\lib\\site-packages (from autoscraper) (4.6.3)\n",
      "Requirement already satisfied: beautifulsoup4 in c:\\users\\perfect\\anaconda3\\lib\\site-packages (from bs4->autoscraper) (4.9.3)\n",
      "Requirement already satisfied: soupsieve>1.2 in c:\\users\\perfect\\anaconda3\\lib\\site-packages (from beautifulsoup4->bs4->autoscraper) (2.2.1)\n",
      "Requirement already satisfied: idna<3,>=2.5 in c:\\users\\perfect\\anaconda3\\lib\\site-packages (from requests->autoscraper) (2.10)\n",
      "Requirement already satisfied: certifi>=2017.4.17 in c:\\users\\perfect\\anaconda3\\lib\\site-packages (from requests->autoscraper) (2020.12.5)\n",
      "Requirement already satisfied: chardet<5,>=3.0.2 in c:\\users\\perfect\\anaconda3\\lib\\site-packages (from requests->autoscraper) (4.0.0)\n",
      "Requirement already satisfied: urllib3<1.27,>=1.21.1 in c:\\users\\perfect\\anaconda3\\lib\\site-packages (from requests->autoscraper) (1.26.4)\n"
     ]
    }
   ],
   "source": [
    "!pip install autoscraper"
   ]
  },
  {
   "cell_type": "code",
   "execution_count": 22,
   "id": "0e2d3750",
   "metadata": {},
   "outputs": [],
   "source": [
    "from autoscraper import AutoScraper"
   ]
  },
  {
   "cell_type": "code",
   "execution_count": 23,
   "id": "a5d280a5",
   "metadata": {},
   "outputs": [],
   "source": [
    "amazon_url=\"https://www.amazon.com/s?k=samsung+phones&i=specialty-aps&srs=23634104011&crid=209UWSRZK7HDQ&sprefix=samsung+phones%2Cspecialty-aps%2C352\"\n",
    "\n",
    "wanted_list=[\"$524.99\",\"SAMSUNG Galaxy S20 FE 5G Factory Unlocked Android Cell Phone 128GB US Version Smartphone Pro-Grade Camera 30X Space Zoom Night Mode, Cloud Navy\",\"7,761\"]"
   ]
  },
  {
   "cell_type": "code",
   "execution_count": 43,
   "id": "6b730e10",
   "metadata": {},
   "outputs": [
    {
     "name": "stdout",
     "output_type": "stream",
     "text": [
      "['$524.99', '$699.99', '$999.99', '$1,199.99', '$424.99', '$499.99', '$924.99', '$1,599.99', '$1,799.99', '$400.00', 'SAMSUNG Galaxy S20 FE 5G Factory Unlocked Android Cell Phone 128GB US Version Smartphone Pro-Grade Camera 30X Space Zoom Night Mode, Cloud Navy', 'Samsung Galaxy Note 20 Ultra 5G Factory Unlocked Android Cell Phone 128GB US Version Mobile Gaming Smartphone Long-Lasting Battery, Mystic White', 'SAMSUNG Galaxy S21 Ultra 5G Factory Unlocked Android Cell Phone 128GB US Version Smartphone Pro-Grade Camera 8K Video 108MP High Res, Phantom Silver', 'Samsung Galaxy A52 5G, Factory Unlocked Smartphone, Android Cell Phone, Water Resistant, 64MP Camera, US Version, 128GB, Black', 'SAMSUNG Galaxy Z Flip 3 5G Factory Unlocked Android Cell Phone US Version Smartphone Flex Mode Intuitive Camera Compact 128GB Storage US Warranty, Lavender', 'Samsung Galaxy A12 (64GB, 4GB) 6.5\" HD+, Quad Camera, 5000mAh Battery, Dual SIM GSM Unlocked Global 4G Volte (T-Mobile, AT&T, Metro) International Model A125M/DS (64GB SD Bundle, Black)', 'Samsung Electronics Galaxy Z Fold 3 5G Factory Unlocked Android Cell Phone US Version Smartphone Tablet 2-in-1 Foldable Dual Screen Under Display Camera 256GB Storage, Phantom Black', 'Samsung Galaxy Note 9, 128GB, Midnight Black - Unlocked (Renewed Premium)', 'Samsung Galaxy A32 (128GB, 4GB) 6.4\" Super AMOLED 90Hz Display, 64MP Quad Camera, All Day Battery, Dual SIM GSM Unlocked (US + Global) 4G Volte A325M/DS (Fast Car Charger Bundle, Awesome Blue)', 'Samsung Galaxy S10e (256GB, 8GB) 5.8\" AMOLED, Snapdragon 855, 4G LTE (GSM + CDMA) T-Mobile Unlocked (AT&T, Verizon, GoogleFi) G970U (Fast Car Charger Bundle) (Prism Black)', 'Samsung Galaxy A21s A217M 64GB Dual SIM GSM Unlocked Android SmartPhone (International Variant/US Compatible LTE) - Black', 'Samsung Galaxy A52s A528B 5G Dual 128GB 6GB RAM Factory Unlocked (GSM Only | No CDMA - not Compatible with Verizon/Sprint) International Version - Black']\n"
     ]
    }
   ],
   "source": [
    "scraper = AutoScraper()\n",
    "result = scraper.build(amazon_url , wanted_list)\n",
    "print(result)"
   ]
  },
  {
   "cell_type": "code",
   "execution_count": 32,
   "id": "a7a96d6e",
   "metadata": {},
   "outputs": [
    {
     "data": {
      "text/plain": [
       "{'rule_lv5a': ['$524.99',\n",
       "  '$699.99',\n",
       "  '$699.99',\n",
       "  '$799.99',\n",
       "  '$424.99',\n",
       "  '$499.99',\n",
       "  '$924.99',\n",
       "  '$999.99',\n",
       "  '$1,599.99',\n",
       "  '$1,799.99'],\n",
       " 'rule_xjma': ['$524.99',\n",
       "  '$699.99',\n",
       "  '$699.99',\n",
       "  '$799.99',\n",
       "  '$424.99',\n",
       "  '$499.99',\n",
       "  '$924.99',\n",
       "  '$999.99',\n",
       "  '$1,599.99',\n",
       "  '$1,799.99'],\n",
       " 'rule_qu9j': ['SAMSUNG Galaxy S20 FE 5G Factory Unlocked Android Cell Phone 128GB US Version Smartphone Pro-Grade Camera 30X Space Zoom Night Mode, Cloud Navy',\n",
       "  'Samsung Galaxy S21 5G | Factory Unlocked Android Cell Phone | US Version 5G Smartphone | Pro-Grade Camera, 8K Video, 64MP High Res | 128GB, Phantom Violet (SM-G991UZVAXAA)',\n",
       "  \"Amazon's Choicefor samsung phones\",\n",
       "  'Samsung Galaxy A12 (64GB, 4GB) 6.5\" HD+, Quad Camera, 5000mAh Battery, Dual SIM GSM Unlocked Global 4G Volte (T-Mobile, AT&T, Metro) International Model A125M/DS (64GB SD Bundle, Black)',\n",
       "  'Samsung Galaxy A52 5G, Factory Unlocked Smartphone, Android Cell Phone, Water Resistant, 64MP Camera, US Version, 128GB, Black',\n",
       "  'SAMSUNG Galaxy Z Flip 3 5G Factory Unlocked Android Cell Phone US Version Smartphone Flex Mode Intuitive Camera Compact 128GB Storage US Warranty, Lavender',\n",
       "  'Samsung Galaxy A52s A528B 5G Dual 128GB 6GB RAM Factory Unlocked (GSM Only | No CDMA - not Compatible with Verizon/Sprint) International Version - Black',\n",
       "  'Samsung Electronics Galaxy Z Fold 3 5G Factory Unlocked Android Cell Phone US Version Smartphone Tablet 2-in-1 Foldable Dual Screen Under Display Camera 256GB Storage, Phantom Black',\n",
       "  'Samsung Galaxy Note 20 Ultra 5G Factory Unlocked Android Cell Phone 128GB US Version Mobile Gaming Smartphone Long-Lasting Battery, Mystic White',\n",
       "  'Samsung Galaxy S20 FE (128GB, 6GB) 6.5\" 120Hz AMOLED, Snapdragon 865, IP68 Water Resistant, Dual SIM GSM Unlocked (Global 4G LTE) International Model SM-G780G/DS (Wireless Charger Bundle, Navy)',\n",
       "  'Samsung Galaxy A32 (128GB, 4GB) 6.4\" Super AMOLED 90Hz Display, 64MP Quad Camera, All Day Battery, Dual SIM GSM Unlocked (US + Global) 4G Volte A325M/DS (Fast Car Charger Bundle, Awesome Blue)',\n",
       "  'Samsung Galaxy S10e (256GB, 8GB) 5.8\" AMOLED, Snapdragon 855, 4G LTE (GSM + CDMA) T-Mobile Unlocked (AT&T, Verizon, GoogleFi) G970U (Fast Car Charger Bundle) (Prism Black)',\n",
       "  'Total Wireless Samsung Galaxy A11 4G LTE Prepaid Smartphone (Locked) - Black - 32GB - Sim Card Included - CDMA']}"
      ]
     },
     "execution_count": 32,
     "metadata": {},
     "output_type": "execute_result"
    }
   ],
   "source": [
    "scraper.get_result_similar(amazon_url, grouped =True)"
   ]
  },
  {
   "cell_type": "code",
   "execution_count": 45,
   "id": "9e75b424",
   "metadata": {},
   "outputs": [
    {
     "ename": "SyntaxError",
     "evalue": "invalid syntax (<ipython-input-45-8e83e2f0c0a0>, line 1)",
     "output_type": "error",
     "traceback": [
      "\u001b[1;36m  File \u001b[1;32m\"<ipython-input-45-8e83e2f0c0a0>\"\u001b[1;36m, line \u001b[1;32m1\u001b[0m\n\u001b[1;33m    scraper.set_rule_aliases({('rule_qu9j':'Title'),('rule_lv5a':'Price','rule_xjma':'Price')})\u001b[0m\n\u001b[1;37m                                          ^\u001b[0m\n\u001b[1;31mSyntaxError\u001b[0m\u001b[1;31m:\u001b[0m invalid syntax\n"
     ]
    }
   ],
   "source": [
    "scraper.set_rule_aliases({('rule_qu9j':'Title'),({'rule_lv5a':'Price','rule_xjma':'Price'}})\n",
    "scraper.keep_rules(['rule_qu9j','rule_lv5a'])\n",
    "scraper.save('amazon-search')"
   ]
  },
  {
   "cell_type": "code",
   "execution_count": 38,
   "id": "8544d50c",
   "metadata": {},
   "outputs": [],
   "source": [
    "results = scraper.get_result_similar('https://www.amazon.com/s?k=Apple+phone&i=specialty-aps&srs=23634104011&crid=9GQCMSSCNXI&sprefix=apple+pho%2Cspecialty-aps%2C332', group_by_alias= True)"
   ]
  },
  {
   "cell_type": "code",
   "execution_count": 39,
   "id": "018dd6b9",
   "metadata": {},
   "outputs": [
    {
     "data": {
      "text/plain": [
       "['Apple iPhone 11, 64GB, Purple - Unlocked (Renewed Premium)',\n",
       " 'Apple Simple Mobile Prepaid - Apple iPhone X (64GB) - Silver',\n",
       " 'Apple iPhone 12 Pro, 128GB, Graphite - Unlocked (Renewed Premium)',\n",
       " \"Amazon's Choicefor Apple phone\",\n",
       " 'Tracfone Apple iPhone 7 4G LTE Prepaid Smartphone - 32GB - Black - Carrier Locked',\n",
       " 'Apple iPhone 12 Pro, 256GB, Pacific Blue - Unlocked (Renewed Premium)',\n",
       " 'Apple iPhone 11 [64GB, Purple] + Carrier Subscription [Cricket Wireless]',\n",
       " 'Fuzen iPhone 4 4S Protective Case, Headphone Amplifier, DAC, Extended Battery',\n",
       " 'Apple iPhone 12 Pro Max, 256GB, Pacific Blue - Unlocked (Renewed Premium)',\n",
       " 'Apple iPhone 12 Pro, 256GB, Graphite - Unlocked (Renewed Premium)',\n",
       " 'Apple iPhone 12 Pro Max, 128GB, Graphite - Unlocked (Renewed Premium)',\n",
       " 'Apple iPhone 12 Pro Max, 128GB, Gold - Unlocked (Renewed Premium)',\n",
       " 'Apple iPhone 12 Pro Max, 256GB, Graphite - Unlocked (Renewed Premium)']"
      ]
     },
     "execution_count": 39,
     "metadata": {},
     "output_type": "execute_result"
    }
   ],
   "source": [
    "results['Title']"
   ]
  },
  {
   "cell_type": "code",
   "execution_count": 40,
   "id": "c21d70ce",
   "metadata": {},
   "outputs": [
    {
     "data": {
      "text/plain": [
       "['$494.00',\n",
       " '$569.00',\n",
       " '$975.35',\n",
       " '$1,064.00',\n",
       " '$1,029.53',\n",
       " '$1,150.00',\n",
       " '$1,035.00',\n",
       " '$1,064.00',\n",
       " '$1,064.00',\n",
       " '$1,150.00']"
      ]
     },
     "execution_count": 40,
     "metadata": {},
     "output_type": "execute_result"
    }
   ],
   "source": [
    "results['Price']"
   ]
  },
  {
   "cell_type": "code",
   "execution_count": null,
   "id": "7a78a130",
   "metadata": {},
   "outputs": [],
   "source": []
  }
 ],
 "metadata": {
  "kernelspec": {
   "display_name": "Python 3",
   "language": "python",
   "name": "python3"
  },
  "language_info": {
   "codemirror_mode": {
    "name": "ipython",
    "version": 3
   },
   "file_extension": ".py",
   "mimetype": "text/x-python",
   "name": "python",
   "nbconvert_exporter": "python",
   "pygments_lexer": "ipython3",
   "version": "3.8.8"
  }
 },
 "nbformat": 4,
 "nbformat_minor": 5
}
