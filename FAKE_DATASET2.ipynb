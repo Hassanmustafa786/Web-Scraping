{
 "cells": [
  {
   "cell_type": "code",
   "execution_count": 35,
   "id": "2b5f486e",
   "metadata": {},
   "outputs": [
    {
     "name": "stdout",
     "output_type": "stream",
     "text": [
      "Requirement already satisfied: Faker in c:\\users\\perfect\\anaconda3\\lib\\site-packages (13.6.0)\n",
      "Requirement already satisfied: python-dateutil>=2.4 in c:\\users\\perfect\\anaconda3\\lib\\site-packages (from Faker) (2.8.1)\n",
      "Requirement already satisfied: six>=1.5 in c:\\users\\perfect\\anaconda3\\lib\\site-packages (from python-dateutil>=2.4->Faker) (1.15.0)\n"
     ]
    }
   ],
   "source": [
    "import numpy as np\n",
    "import pandas as pd\n",
    "!pip install Faker\n",
    "from faker import Faker\n",
    "from faker.providers.person.en import Provider"
   ]
  },
  {
   "cell_type": "code",
   "execution_count": 36,
   "id": "6671764f",
   "metadata": {},
   "outputs": [],
   "source": [
    "fake = Faker()"
   ]
  },
  {
   "cell_type": "code",
   "execution_count": 14,
   "id": "e1029571",
   "metadata": {},
   "outputs": [],
   "source": [
    "def random_names(name_type, size):\n",
    "    names = getattr(Provider, name_type)\n",
    "    return np.random.choice(names, size=size)"
   ]
  },
  {
   "cell_type": "code",
   "execution_count": 15,
   "id": "84574bc5",
   "metadata": {},
   "outputs": [],
   "source": [
    "def random_genders(size, p=None):\n",
    "    #\"\"\"Generate n-length ndarray of genders.\"\"\"\n",
    "    if not p:\n",
    "        # default probabilities\n",
    "        p = (0.49, 0.49, 0.01, 0.01)\n",
    "    gender = (\"M\", \"F\", \"O\", \"\")\n",
    "    return np.random.choice(gender, size=size, p=p)"
   ]
  },
  {
   "cell_type": "code",
   "execution_count": 16,
   "id": "f7f6abe0",
   "metadata": {},
   "outputs": [],
   "source": [
    "def random_dates(start, end, size):\n",
    "    \"\"\"\n",
    "    Generate random dates within range between start and end.    \n",
    "    Adapted from: https://stackoverflow.com/a/50668285\n",
    "    \"\"\"\n",
    "    # Unix timestamp is in nanoseconds by default, so divide it by\n",
    "    # 24*60*60*10**9 to convert to days.\n",
    "    divide_by = 24 * 60 * 60 * 10**9\n",
    "    start_u = start.value // divide_by\n",
    "    end_u = end.value // divide_by\n",
    "    return pd.to_datetime(np.random.randint(start_u, end_u, size), unit=\"D\")"
   ]
  },
  {
   "cell_type": "code",
   "execution_count": null,
   "id": "203b892e",
   "metadata": {},
   "outputs": [],
   "source": []
  },
  {
   "cell_type": "code",
   "execution_count": 48,
   "id": "1c698c99",
   "metadata": {},
   "outputs": [],
   "source": [
    "# How many records do we want to create in our CSV? In this example\n",
    "# we are generating 100, but you could also find relatively fast results generating \n",
    "# much larger datasets\n",
    "size = 100\n",
    "df = pd.DataFrame(columns=['First', 'Last', 'Gender', 'Birthdate'])\n",
    "df['First'] = random_names('first_names', size)\n",
    "df['Last'] = random_names('last_names', size) \n",
    "df['Gender'] = random_genders(size)\n",
    "df['Birthdate'] = random_dates(start=pd.to_datetime('1940-01-01'), end=pd.to_datetime('2008-01-01'), size=size)\n",
    "\n",
    "df.to_csv('fake-file.csv')"
   ]
  },
  {
   "cell_type": "code",
   "execution_count": null,
   "id": "604507b8",
   "metadata": {},
   "outputs": [],
   "source": []
  }
 ],
 "metadata": {
  "kernelspec": {
   "display_name": "Python 3",
   "language": "python",
   "name": "python3"
  },
  "language_info": {
   "codemirror_mode": {
    "name": "ipython",
    "version": 3
   },
   "file_extension": ".py",
   "mimetype": "text/x-python",
   "name": "python",
   "nbconvert_exporter": "python",
   "pygments_lexer": "ipython3",
   "version": "3.8.8"
  }
 },
 "nbformat": 4,
 "nbformat_minor": 5
}
